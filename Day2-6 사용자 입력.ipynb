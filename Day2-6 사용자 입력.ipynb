{
 "cells": [
  {
   "cell_type": "markdown",
   "id": "e35b47e7-266e-4720-9c08-78a1f8fbf261",
   "metadata": {},
   "source": [
    "# 사용자 입력값 받기\n",
    "\n",
    "---"
   ]
  },
  {
   "cell_type": "markdown",
   "id": "fb6656fc-028b-4947-b18c-6952295c3763",
   "metadata": {},
   "source": [
    "## input\n",
    "* `input()`\n",
    "* 입력받은 데이터 형식은 str형\n",
    "* 차후에 사용하기 위해서 형 변환이 필요함\n",
    "* 사용시 안에 문자를 넣어서 알려줄 수 있음"
   ]
  },
  {
   "cell_type": "code",
   "execution_count": 2,
   "id": "c6348448-4c8f-419b-b763-2f9d4e627976",
   "metadata": {},
   "outputs": [
    {
     "name": "stdin",
     "output_type": "stream",
     "text": [
      " 안녕하세요\n"
     ]
    }
   ],
   "source": [
    "text = input()"
   ]
  },
  {
   "cell_type": "code",
   "execution_count": 7,
   "id": "c67d5672-b1bc-40c9-ad8d-b518ec1504ce",
   "metadata": {},
   "outputs": [
    {
     "name": "stdin",
     "output_type": "stream",
     "text": [
      "나이를 출력하세요 abc\n"
     ]
    }
   ],
   "source": [
    "user_age = input('나이를 출력하세요')"
   ]
  },
  {
   "cell_type": "markdown",
   "id": "f0844fd2-02a7-4ecf-b210-eb8073bf234e",
   "metadata": {},
   "source": [
    "### 예외처리\n",
    "* `try .... except`  -> try문을 실행하다가 오류가 발생하면 except문이 실행된다."
   ]
  },
  {
   "cell_type": "code",
   "execution_count": 8,
   "id": "050ace78-1eb7-42a3-8f02-3286a68083cb",
   "metadata": {},
   "outputs": [
    {
     "name": "stdout",
     "output_type": "stream",
     "text": [
      "숫자를 입력해 주세요!\n"
     ]
    }
   ],
   "source": [
    "try:\n",
    "    print(int(user_age))\n",
    "except:\n",
    "    print('숫자를 입력해 주세요!')"
   ]
  },
  {
   "cell_type": "markdown",
   "id": "72234829-4591-4f3f-8fd6-b24238165ada",
   "metadata": {},
   "source": [
    "## Quiz\n",
    "사용자의 나이를 입력받으세요.  \n",
    "1. 20세 이상이면 `'성인', 아니면 '미성년자'`라고 출력하는 코드 작성  \n",
    "2. `\"20세 미만, 20대, 30대, 40대 이상\"`을 출력하는 코드를 작성하세요  \n",
    "---\n",
    "사용자의 이름을 입력받으세요.  \n",
    "1. 사용자의 성을 출력해주는 코드를 작성하세요  \n",
    "2. 사용자의 성이 `popular_last_name = [\"김\", \"이\", \"박\"]`에 포함되는지 출력해주는 코드를 작성하세요.   \n",
    "3. 사용자의 이름이 `user_info = {\"홍길동\":24, \"유재석\":26, \"김종국\":27}` 에 해당하는 이름이면 나이를 출력해주는 코드를 작성하세요  \n",
    "---\n",
    "3. 사용자로부터 세 개의 숫자를 입력받아 가장 큰 수를 출력하세요.(입력형식: 1,2,3)  \n",
    "4. 사용자로부터 주민등록번호를 입력받아, 뒷자리의 숫자가 1또는 3이면 \"남자\", 2또는 4면 \"여자\", 이외에는 \"오류\"라고 출력하세요.(입력 형식: 900000-1000000)  "
   ]
  },
  {
   "cell_type": "code",
   "execution_count": 10,
   "id": "322ef0f6-b2e5-4090-9f0f-6211c30d4aef",
   "metadata": {},
   "outputs": [
    {
     "name": "stdin",
     "output_type": "stream",
     "text": [
      "사용자의 나이를 입력하세요 :  20\n"
     ]
    },
    {
     "name": "stdout",
     "output_type": "stream",
     "text": [
      "성인\n"
     ]
    }
   ],
   "source": [
    "age = int(input('사용자의 나이를 입력하세요 : '))\n",
    "# Q1 - 1\n",
    "if age >= 20:\n",
    "    print('성인')\n",
    "else:\n",
    "    print('미성년자')    "
   ]
  },
  {
   "cell_type": "code",
   "execution_count": 13,
   "id": "51814092-10d4-4abf-8bfc-162f5d04e4bc",
   "metadata": {},
   "outputs": [
    {
     "name": "stdin",
     "output_type": "stream",
     "text": [
      "사용자의 나이를 입력하세요 :  50\n"
     ]
    },
    {
     "name": "stdout",
     "output_type": "stream",
     "text": [
      "40대 이상\n"
     ]
    }
   ],
   "source": [
    "age = int(input('사용자의 나이를 입력하세요 : '))\n",
    "# Q1 - 2\n",
    "if age >= 40:\n",
    "    print('40대 이상')\n",
    "elif age >= 30:\n",
    "    print('30대')\n",
    "elif age >= 20:\n",
    "    print('20대')\n",
    "else:\n",
    "    print('20대 미만')          "
   ]
  },
  {
   "cell_type": "code",
   "execution_count": null,
   "id": "15677e7d-45f3-422c-84c4-35b915c75678",
   "metadata": {},
   "outputs": [],
   "source": [
    "name = input('사용자의 이름을 입력하세요 : ')\n",
    "# Q2 - 1\n",
    "print(name[0])\n",
    "# Q2 - 2\n",
    "popular_last_name = [\"김\", \"이\", \"박\"]   \n",
    "if name[0] in popular_last_name:\n",
    "    print(\"True\")\n",
    "else:\n",
    "    print(\"False\")\n",
    "# Q2 - 3\n",
    "user_info = {\"홍길동\":24, \"유재석\":26, \"김종국\":27}\n",
    "if name in list(user_info.keys()):\n",
    "    print(f\"이름 : {name}, 나이 : {user_info[name]} \")\n",
    "    print(\"이름 : \", name , \"나이 : \", user_info[name])\n",
    "else:\n",
    "    print('user_info에 없는 이름입니다.')"
   ]
  },
  {
   "cell_type": "code",
   "execution_count": 35,
   "id": "7716d4f8-952f-4999-9de8-bf43a0aae8a1",
   "metadata": {},
   "outputs": [
    {
     "name": "stdin",
     "output_type": "stream",
     "text": [
      "세개의 숫자를 입력해 주세요 :  40 50 60\n"
     ]
    },
    {
     "name": "stdout",
     "output_type": "stream",
     "text": [
      "['40', '50', '60']\n",
      "60\n"
     ]
    },
    {
     "name": "stdin",
     "output_type": "stream",
     "text": [
      "세개의 숫자를 입력해 주세요 :  40 50 60\n"
     ]
    },
    {
     "name": "stdout",
     "output_type": "stream",
     "text": [
      "[40, 50, 60]\n"
     ]
    },
    {
     "data": {
      "text/plain": [
       "60"
      ]
     },
     "execution_count": 35,
     "metadata": {},
     "output_type": "execute_result"
    }
   ],
   "source": [
    "# Q3\n",
    "# bad code -> ㄷ\n",
    "num = input('세개의 숫자를 입력해 주세요 : ').split(\" \") # ASCII 계산\n",
    "print(num)\n",
    "print(max(num))\n",
    "\n",
    "\n",
    "# another method\n",
    "# good code -> error \n",
    "num = list(map(int, input('세개의 숫자를 입력해 주세요 : ').split(\" \"))) # 숫자로 계산\n",
    "print(num)\n",
    "max(num)"
   ]
  },
  {
   "cell_type": "code",
   "execution_count": 26,
   "id": "3777ef29-591f-41e7-b5f3-6118b7079669",
   "metadata": {},
   "outputs": [
    {
     "name": "stdin",
     "output_type": "stream",
     "text": [
      "주민등록번호를 입력해 주세요 :  980912-3333333\n"
     ]
    },
    {
     "name": "stdout",
     "output_type": "stream",
     "text": [
      "3\n",
      "남자\n"
     ]
    }
   ],
   "source": [
    "# Q4\n",
    "personal_number = input('주민등록번호를 입력해 주세요 : ').split(\"-\")\n",
    "num = str(personal_number[1])[0]\n",
    "print(num)\n",
    "if num == '1' or num == '3':\n",
    "    print(\"남자\")\n",
    "elif num == '2' or num == '4':\n",
    "    print(\"여자\")\n",
    "else:\n",
    "    print(\"오류\")"
   ]
  },
  {
   "cell_type": "code",
   "execution_count": null,
   "id": "772d1a98-e49f-4b17-8529-c8fd1ba480db",
   "metadata": {},
   "outputs": [],
   "source": []
  }
 ],
 "metadata": {
  "kernelspec": {
   "display_name": "Python 3 (ipykernel)",
   "language": "python",
   "name": "python3"
  },
  "language_info": {
   "codemirror_mode": {
    "name": "ipython",
    "version": 3
   },
   "file_extension": ".py",
   "mimetype": "text/x-python",
   "name": "python",
   "nbconvert_exporter": "python",
   "pygments_lexer": "ipython3",
   "version": "3.9.12"
  }
 },
 "nbformat": 4,
 "nbformat_minor": 5
}
